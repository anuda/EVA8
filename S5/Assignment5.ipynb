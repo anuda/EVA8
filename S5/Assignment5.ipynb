{
 "cells": [
  {
   "cell_type": "markdown",
   "id": "846efd4d-be7d-428e-8f0a-c0746ad6aa9f",
   "metadata": {},
   "source": [
    "### Import Libraries"
   ]
  },
  {
   "cell_type": "code",
   "execution_count": 1,
   "id": "90b815cc",
   "metadata": {},
   "outputs": [],
   "source": [
    "import torch\n",
    "import torch.nn as nn\n",
    "import torch.nn.functional as F\n",
    "import torch.optim as optim\n",
    "from torchvision import datasets, transforms\n",
    "from torch.optim.lr_scheduler import ExponentialLR"
   ]
  },
  {
   "cell_type": "markdown",
   "id": "a8761b5f",
   "metadata": {},
   "source": [
    "### define transformations \n",
    "- use them while downloading data"
   ]
  },
  {
   "cell_type": "code",
   "execution_count": 2,
   "id": "9a2f21fe",
   "metadata": {},
   "outputs": [],
   "source": [
    "train_transform = transforms.Compose([\n",
    "        transforms.ToTensor(),\n",
    "#         transforms.Normalize()\n",
    "])\n",
    "\n"
   ]
  },
  {
   "cell_type": "code",
   "execution_count": 3,
   "id": "6ab028a0",
   "metadata": {
    "scrolled": true
   },
   "outputs": [],
   "source": [
    "train = datasets.MNIST('./data',train=True, download=True, transform=train_transform)\n",
    "\n"
   ]
  },
  {
   "cell_type": "markdown",
   "id": "48336781",
   "metadata": {},
   "source": [
    "#### Compute mean and std deviation for image normalization"
   ]
  },
  {
   "cell_type": "code",
   "execution_count": 4,
   "id": "3c9d0c51",
   "metadata": {
    "scrolled": true
   },
   "outputs": [
    {
     "name": "stdout",
     "output_type": "stream",
     "text": [
      "[Train]\n",
      " - Numpy Shape: (60000, 28, 28)\n",
      " - Tensor Shape: torch.Size([60000, 28, 28])\n",
      " - min: tensor(0.)\n",
      " - max: tensor(1.)\n",
      " - mean: tensor(0.1307)\n",
      " - std: tensor(0.3081)\n",
      " - var: tensor(0.0949)\n"
     ]
    },
    {
     "name": "stderr",
     "output_type": "stream",
     "text": [
      "/home/anuda/anaconda3/lib/python3.9/site-packages/torchvision/datasets/mnist.py:75: UserWarning: train_data has been renamed data\n",
      "  warnings.warn(\"train_data has been renamed data\")\n"
     ]
    }
   ],
   "source": [
    "train_data = train.train_data\n",
    "train_data = train.transform(train_data.numpy())\n",
    "\n",
    "print('[Train]')\n",
    "print(' - Numpy Shape:', train.train_data.cpu().numpy().shape)\n",
    "print(' - Tensor Shape:', train.train_data.size())\n",
    "print(' - min:', torch.min(train_data))\n",
    "print(' - max:', torch.max(train_data))\n",
    "print(' - mean:', torch.mean(train_data))\n",
    "print(' - std:', torch.std(train_data))\n",
    "print(' - var:', torch.var(train_data))\n"
   ]
  },
  {
   "cell_type": "markdown",
   "id": "d2b2121b-e3ce-4bfe-a415-ad1ec0a8f4c8",
   "metadata": {},
   "source": [
    "#### Update transformation using mean and std from the training data"
   ]
  },
  {
   "cell_type": "code",
   "execution_count": 5,
   "id": "baf0f255",
   "metadata": {},
   "outputs": [],
   "source": [
    "train_transforms = transforms.Compose([\n",
    "        transforms.RandomRotation((-7.0, 7.0), fill=(1,)),\n",
    "        transforms.ToTensor(),\n",
    "        transforms.Normalize(mean=(0.1307,),std=(0.3081,))\n",
    "])\n",
    "\n",
    "\n",
    "test_transforms = transforms.Compose([\n",
    "        transforms.RandomRotation((-7.0, 7.0), fill=(1,)),\n",
    "        transforms.ToTensor(),\n",
    "        transforms.Normalize(mean=(0.1307,),std=(0.3081,))\n",
    "])\n",
    "\n"
   ]
  },
  {
   "cell_type": "markdown",
   "id": "cfb4f129-6873-4cc5-b62a-cadfd136e92d",
   "metadata": {},
   "source": [
    "### Apply transformation to both train and test dataset"
   ]
  },
  {
   "cell_type": "code",
   "execution_count": 6,
   "id": "a01d806a",
   "metadata": {
    "scrolled": true
   },
   "outputs": [],
   "source": [
    "train = datasets.MNIST('./data', train=True, download=True, transform=train_transforms)\n",
    "test = datasets.MNIST('./data', train=False, download=True, transform=test_transforms)"
   ]
  },
  {
   "cell_type": "code",
   "execution_count": 7,
   "id": "6fb8ad3b",
   "metadata": {},
   "outputs": [
    {
     "data": {
      "text/plain": [
       "torchvision.datasets.mnist.MNIST"
      ]
     },
     "execution_count": 7,
     "metadata": {},
     "output_type": "execute_result"
    }
   ],
   "source": [
    "type(train)"
   ]
  },
  {
   "cell_type": "markdown",
   "id": "1c7165d6-68ab-4998-b897-dc15de57ec2c",
   "metadata": {},
   "source": [
    "### Create Dataloader for batch generation"
   ]
  },
  {
   "cell_type": "code",
   "execution_count": 8,
   "id": "3ad32988-907a-44d8-838c-e59f540c76f6",
   "metadata": {},
   "outputs": [
    {
     "name": "stdout",
     "output_type": "stream",
     "text": [
      "True\n"
     ]
    }
   ],
   "source": [
    "SEED = 1\n",
    "cuda = torch.cuda.is_available()\n",
    "print(cuda)"
   ]
  },
  {
   "cell_type": "code",
   "execution_count": 9,
   "id": "81396fd8-965f-47a1-9319-be3b44ec00c2",
   "metadata": {},
   "outputs": [],
   "source": [
    "#for reproducibility\n",
    "torch.cuda.manual_seed(SEED)\n"
   ]
  },
  {
   "cell_type": "code",
   "execution_count": 10,
   "id": "9d009f8e-65ee-40ae-97bc-83b1b56e0cad",
   "metadata": {},
   "outputs": [],
   "source": [
    "dataloader_args = dict(shuffle=True, batch_size=128, num_workers=4, pin_memory=True)\n",
    "\n",
    "train_loader = torch.utils.data.DataLoader(train, **dataloader_args)\n",
    "test_loader = torch.utils.data.DataLoader(test, **dataloader_args)"
   ]
  },
  {
   "cell_type": "markdown",
   "id": "ab6bfe0e-eb7e-4e76-beb3-5439d9bcd3e3",
   "metadata": {},
   "source": [
    "#### Show few images\n",
    "- Create a data iter object\n",
    "- fetch a batch of data using data loader"
   ]
  },
  {
   "cell_type": "code",
   "execution_count": 11,
   "id": "cb2ed3ef-d935-48c8-9d24-350221d3e390",
   "metadata": {},
   "outputs": [
    {
     "data": {
      "text/plain": [
       "(torch.Size([128, 1, 28, 28]), torch.Size([128]))"
      ]
     },
     "execution_count": 11,
     "metadata": {},
     "output_type": "execute_result"
    }
   ],
   "source": [
    "dataiter = iter(train_loader)\n",
    "images, labels = dataiter.next()\n",
    "\n",
    "images.shape, labels.shape"
   ]
  },
  {
   "cell_type": "code",
   "execution_count": 12,
   "id": "527e026c-dc24-4945-a28e-511cfc0fe6ec",
   "metadata": {},
   "outputs": [],
   "source": [
    "%matplotlib inline\n",
    "import matplotlib.pyplot as plt"
   ]
  },
  {
   "cell_type": "code",
   "execution_count": 13,
   "id": "3f256fdc-1fb0-4d83-bba7-c2107c8d1886",
   "metadata": {},
   "outputs": [
    {
     "data": {
      "image/png": "[encoded data removed]",
      "text/plain": [
       "<Figure size 432x288 with 60 Axes>"
      ]
     },
     "metadata": {
      "needs_background": "light"
     },
     "output_type": "display_data"
    }
   ],
   "source": [
    "figure = plt.figure()\n",
    "num_of_images = 60\n",
    "for index in range(1, num_of_images + 1):\n",
    "    plt.title(str(labels[index].item()))\n",
    "    plt.subplot(6, 10, index)\n",
    "    plt.axis('off')\n",
    "    plt.imshow(images[index].numpy().squeeze(), cmap='gray_r')"
   ]
  },
  {
   "cell_type": "markdown",
   "id": "29d8051b-5ebe-40a6-a368-ae4fcdc58d3a",
   "metadata": {},
   "source": [
    "### Create a Model\n",
    "- will create like 5-7 layers of networks\n",
    "- not use padding\n",
    "- channels to be a minimal in number\n",
    "- create multiple sequential blocks\n",
    "- 28X28 > 26X26 > 24X24 > 22X22 > MP (11X11) > 9X9 > 7X7 > 1X1"
   ]
  },
  {
   "cell_type": "code",
   "execution_count": 14,
   "id": "5b8b0b91-5350-4b4a-98ea-ed1ad062f0aa",
   "metadata": {},
   "outputs": [],
   "source": [
    "from model import Net"
   ]
  },
  {
   "cell_type": "markdown",
   "id": "d57cbd75-4512-4b33-bf4a-2f585612ec89",
   "metadata": {},
   "source": [
    "### Visualize the model"
   ]
  },
  {
   "cell_type": "code",
   "execution_count": 15,
   "id": "5cdaa0d3-5032-4029-8986-8db474995355",
   "metadata": {},
   "outputs": [
    {
     "name": "stdout",
     "output_type": "stream",
     "text": [
      "cuda\n",
      "----------------------------------------------------------------\n",
      "        Layer (type)               Output Shape         Param #\n",
      "================================================================\n",
      "            Conv2d-1            [-1, 8, 26, 26]              72\n",
      "       BatchNorm2d-2            [-1, 8, 26, 26]              16\n",
      "              ReLU-3            [-1, 8, 26, 26]               0\n",
      "            Conv2d-4           [-1, 16, 24, 24]           1,152\n",
      "       BatchNorm2d-5           [-1, 16, 24, 24]              32\n",
      "              ReLU-6           [-1, 16, 24, 24]               0\n",
      "            Conv2d-7           [-1, 20, 22, 22]           2,880\n",
      "       BatchNorm2d-8           [-1, 20, 22, 22]              40\n",
      "              ReLU-9           [-1, 20, 22, 22]               0\n",
      "          Dropout-10           [-1, 20, 22, 22]               0\n",
      "        MaxPool2d-11           [-1, 20, 11, 11]               0\n",
      "           Conv2d-12             [-1, 20, 9, 9]           3,600\n",
      "      BatchNorm2d-13             [-1, 20, 9, 9]              40\n",
      "             ReLU-14             [-1, 20, 9, 9]               0\n",
      "           Conv2d-15             [-1, 10, 9, 9]             200\n",
      "      BatchNorm2d-16             [-1, 10, 9, 9]              20\n",
      "             ReLU-17             [-1, 10, 9, 9]               0\n",
      "           Conv2d-18             [-1, 20, 7, 7]           1,800\n",
      "      BatchNorm2d-19             [-1, 20, 7, 7]              40\n",
      "             ReLU-20             [-1, 20, 7, 7]               0\n",
      "          Dropout-21             [-1, 20, 7, 7]               0\n",
      "           Conv2d-22             [-1, 10, 5, 5]           1,800\n",
      "      BatchNorm2d-23             [-1, 10, 5, 5]              20\n",
      "             ReLU-24             [-1, 10, 5, 5]               0\n",
      "        AvgPool2d-25             [-1, 10, 1, 1]               0\n",
      "================================================================\n",
      "Total params: 11,712\n",
      "Trainable params: 11,712\n",
      "Non-trainable params: 0\n",
      "----------------------------------------------------------------\n",
      "Input size (MB): 0.00\n",
      "Forward/backward pass size (MB): 0.74\n",
      "Params size (MB): 0.04\n",
      "Estimated Total Size (MB): 0.79\n",
      "----------------------------------------------------------------\n"
     ]
    }
   ],
   "source": [
    "\n",
    "from torchsummary import summary\n",
    "use_cuda = torch.cuda.is_available()\n",
    "device = torch.device(\"cuda\" if use_cuda else \"cpu\")\n",
    "print(device)\n",
    "model = Net(norm_type='BN').to(device)\n",
    "summary(model, input_size=(1, 28, 28))"
   ]
  },
  {
   "cell_type": "markdown",
   "id": "173eb5ec-6075-434c-ab04-faf0f4c40365",
   "metadata": {},
   "source": [
    "### Training the Model"
   ]
  },
  {
   "cell_type": "code",
   "execution_count": 16,
   "id": "be244dad-9146-473b-a6dc-57fa77cc5ab1",
   "metadata": {},
   "outputs": [],
   "source": [
    "from tqdm import tqdm\n",
    "train_losses = []\n",
    "test_losses = []\n",
    "train_acc = []\n",
    "test_acc = []\n",
    "\n",
    "def train(model, device, train_loader, optimizer, epoch):\n",
    "    \n",
    "\n",
    "    model.train()\n",
    "    pbar = tqdm(train_loader)\n",
    "    correct = 0\n",
    "    processed = 0\n",
    "    for batch_idx, (data, target) in enumerate(pbar):\n",
    "        data, target = data.to(device), target.to(device)\n",
    "        \n",
    "        optimizer.zero_grad()\n",
    "        \n",
    "        y_pred = model(data)\n",
    "        \n",
    "        loss = F.nll_loss(y_pred, target)\n",
    " \n",
    "        train_losses.append(loss)\n",
    "        \n",
    "        loss.backward() #backward prop\n",
    "        optimizer.step()\n",
    "        \n",
    "        pred = y_pred.argmax(dim=1, keepdim=True)\n",
    "        \n",
    "        correct += pred.eq(target.view_as(pred)).sum().item()\n",
    "        processed += len(data)\n",
    "        \n",
    "        pbar.set_description(desc=f'Loss = {loss.item()} Batch_id = {batch_idx}\\\n",
    "            Accuracy={100*correct/processed:0.2f}')\n",
    "        \n",
    "        \n",
    "        train_acc.append(100*correct/processed)\n",
    "        \n",
    "        return(train_losses,test_losses,train_acc,test_acc)\n",
    "\n",
    "        \n",
    "def test(model, device, test_loader):\n",
    "\n",
    "    model.eval()\n",
    "    test_loss = 0\n",
    "    correct = 0\n",
    "    with torch.no_grad():\n",
    "        for data, target in test_loader:\n",
    "            data, target = data.to(device), target.to(device)\n",
    "            output = model(data)\n",
    "            test_loss += F.nll_loss(output, target, reduction='sum').item()\n",
    "            pred = output.argmax(dim=1, keepdim=True)\n",
    "            correct += pred.eq(target.view_as(pred)).sum().item()\n",
    "            \n",
    "    test_loss /= len(test_loader.dataset)\n",
    "    test_losses.append(test_loss)\n",
    "\n",
    "    print('\\nTest set: Average loss: {:.4f}, Accuracy: {}/{} ({:.2f}%)\\n'.format(\n",
    "        test_loss, correct, len(test_loader.dataset),\n",
    "        100. * correct / len(test_loader.dataset)))\n",
    "    \n",
    "    test_acc.append(100. * correct / len(test_loader.dataset))\n",
    "    \n",
    "    return(train_losses,test_losses,train_acc,test_acc)\n",
    "            \n",
    "        \n",
    "        "
   ]
  },
  {
   "cell_type": "code",
   "execution_count": 17,
   "id": "2e16e77c-9c35-428d-bea9-31d5a0871243",
   "metadata": {
    "tags": []
   },
   "outputs": [
    {
     "name": "stdout",
     "output_type": "stream",
     "text": [
      "EPOCH: 0\n"
     ]
    },
    {
     "name": "stderr",
     "output_type": "stream",
     "text": [
      "Loss = 2.306048631668091 Batch_id = 0            Accuracy=10.16:   0%| | 0/469 [\n"
     ]
    },
    {
     "name": "stdout",
     "output_type": "stream",
     "text": [
      "\n",
      "Test set: Average loss: 2.3027, Accuracy: 607/10000 (6.07%)\n",
      "\n",
      "EPOCH: 1\n"
     ]
    },
    {
     "name": "stderr",
     "output_type": "stream",
     "text": [
      "Loss = 2.2996420860290527 Batch_id = 0            Accuracy=10.16:   0%| | 0/469 \n"
     ]
    },
    {
     "name": "stdout",
     "output_type": "stream",
     "text": [
      "\n",
      "Test set: Average loss: 2.3025, Accuracy: 968/10000 (9.68%)\n",
      "\n",
      "EPOCH: 2\n"
     ]
    },
    {
     "name": "stderr",
     "output_type": "stream",
     "text": [
      "Loss = 2.27020001411438 Batch_id = 0            Accuracy=17.19:   0%| | 0/469 [0\n"
     ]
    },
    {
     "name": "stdout",
     "output_type": "stream",
     "text": [
      "\n",
      "Test set: Average loss: 2.3025, Accuracy: 1009/10000 (10.09%)\n",
      "\n",
      "EPOCH: 3\n"
     ]
    },
    {
     "name": "stderr",
     "output_type": "stream",
     "text": [
      "Loss = 2.2545557022094727 Batch_id = 0            Accuracy=24.22:   0%| | 0/469 \n"
     ]
    },
    {
     "name": "stdout",
     "output_type": "stream",
     "text": [
      "\n",
      "Test set: Average loss: 2.3025, Accuracy: 1007/10000 (10.07%)\n",
      "\n",
      "EPOCH: 4\n"
     ]
    },
    {
     "name": "stderr",
     "output_type": "stream",
     "text": [
      "Loss = 2.221423387527466 Batch_id = 0            Accuracy=22.66:   0%| | 0/469 [\n"
     ]
    },
    {
     "name": "stdout",
     "output_type": "stream",
     "text": [
      "\n",
      "Test set: Average loss: 2.3024, Accuracy: 1008/10000 (10.08%)\n",
      "\n",
      "EPOCH: 5\n"
     ]
    },
    {
     "name": "stderr",
     "output_type": "stream",
     "text": [
      "Loss = 2.2095489501953125 Batch_id = 0            Accuracy=25.78:   0%| | 0/469 \n"
     ]
    },
    {
     "name": "stdout",
     "output_type": "stream",
     "text": [
      "\n",
      "Test set: Average loss: 2.3024, Accuracy: 1008/10000 (10.08%)\n",
      "\n",
      "EPOCH: 6\n"
     ]
    },
    {
     "name": "stderr",
     "output_type": "stream",
     "text": [
      "Loss = 2.2276253700256348 Batch_id = 0            Accuracy=22.66:   0%| | 0/469 \n"
     ]
    },
    {
     "name": "stdout",
     "output_type": "stream",
     "text": [
      "\n",
      "Test set: Average loss: 2.3022, Accuracy: 981/10000 (9.81%)\n",
      "\n",
      "EPOCH: 7\n"
     ]
    },
    {
     "name": "stderr",
     "output_type": "stream",
     "text": [
      "Loss = 2.1497671604156494 Batch_id = 0            Accuracy=42.19:   0%| | 0/469 \n"
     ]
    },
    {
     "name": "stdout",
     "output_type": "stream",
     "text": [
      "\n",
      "Test set: Average loss: 2.3020, Accuracy: 788/10000 (7.88%)\n",
      "\n",
      "EPOCH: 8\n"
     ]
    },
    {
     "name": "stderr",
     "output_type": "stream",
     "text": [
      "Loss = 2.161588668823242 Batch_id = 0            Accuracy=39.84:   0%| | 0/469 [\n"
     ]
    },
    {
     "name": "stdout",
     "output_type": "stream",
     "text": [
      "\n",
      "Test set: Average loss: 2.3017, Accuracy: 635/10000 (6.35%)\n",
      "\n",
      "EPOCH: 9\n"
     ]
    },
    {
     "name": "stderr",
     "output_type": "stream",
     "text": [
      "Loss = 2.126275062561035 Batch_id = 0            Accuracy=35.94:   0%| | 0/469 [\n"
     ]
    },
    {
     "name": "stdout",
     "output_type": "stream",
     "text": [
      "\n",
      "Test set: Average loss: 2.3012, Accuracy: 627/10000 (6.27%)\n",
      "\n"
     ]
    }
   ],
   "source": [
    "model = Net(norm_type='BN').to(device)\n",
    "optimizer = optim.SGD(model.parameters(), lr=0.01, momentum=0.9)\n",
    "scheduler = ExponentialLR(optimizer, gamma=0.9)\n",
    "EPOCHS = 10\n",
    "for epoch in range(EPOCHS):\n",
    "    print(\"EPOCH:\", epoch)\n",
    "    train(model, device, train_loader, optimizer, epoch)\n",
    "    test(model, device, test_loader)\n",
    "    scheduler.step()\n"
   ]
  },
  {
   "cell_type": "code",
   "execution_count": 29,
   "id": "452dbf5e-d03e-4c7c-a3c5-9bcf009ebea0",
   "metadata": {},
   "outputs": [
    {
     "data": {
      "text/plain": [
       "2.306048631668091"
      ]
     },
     "execution_count": 29,
     "metadata": {},
     "output_type": "execute_result"
    }
   ],
   "source": []
  },
  {
   "cell_type": "code",
   "execution_count": 32,
   "id": "f17a9de4-632c-44d1-ab47-7fcb7ddbdcbe",
   "metadata": {},
   "outputs": [],
   "source": [
    "# type(test_losses[0]),type(train_losses[0])\n",
    "train_loss_cpu=[]\n",
    "for i in range(0,len(train_losses)):\n",
    "    train_loss_cpu.append(train_losses[i].cpu().item())\n",
    "    "
   ]
  },
  {
   "cell_type": "code",
   "execution_count": 33,
   "id": "f8950acf-bb2d-4e73-9695-6e097f58b53e",
   "metadata": {},
   "outputs": [
    {
     "data": {
      "image/png": "[encoded data removed]",
      "text/plain": [
       "<Figure size 720x360 with 1 Axes>"
      ]
     },
     "metadata": {
      "needs_background": "light"
     },
     "output_type": "display_data"
    }
   ],
   "source": [
    "import matplotlib.pyplot as plt\n",
    "\n",
    "# train_losses = []\n",
    "# test_losses = []\n",
    "# train_acc = []\n",
    "# test_acc = []\n",
    "\n",
    "plt.figure(figsize=(10,5))\n",
    "plt.title(\"Training and Validation Loss\")\n",
    "plt.plot(test_losses,label=\"val\")\n",
    "plt.plot(train_loss_cpu,label=\"train\")\n",
    "plt.xlabel(\"iterations\")\n",
    "plt.ylabel(\"Loss\")\n",
    "plt.legend()\n",
    "plt.show()"
   ]
  },
  {
   "cell_type": "code",
   "execution_count": null,
   "id": "1b2e19fe-46aa-4546-89af-1c185f7fa3fe",
   "metadata": {},
   "outputs": [],
   "source": []
  }
 ],
 "metadata": {
  "kernelspec": {
   "display_name": "Python 3 (ipykernel)",
   "language": "python",
   "name": "python3"
  },
  "language_info": {
   "codemirror_mode": {
    "name": "ipython",
    "version": 3
   },
   "file_extension": ".py",
   "mimetype": "text/x-python",
   "name": "python",
   "nbconvert_exporter": "python",
   "pygments_lexer": "ipython3",
   "version": "3.9.7"
  }
 },
 "nbformat": 4,
 "nbformat_minor": 5
}
