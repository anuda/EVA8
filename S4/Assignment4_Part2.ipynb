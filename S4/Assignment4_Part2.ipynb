{
  "cells": [
    {
      "cell_type": "markdown",
      "metadata": {
        "id": "view-in-github",
        "colab_type": "text"
      },
      "source": [
        "<a href=\"https://colab.research.google.com/github/anuda/EVA8/blob/main/S4/Assignment4_Part2.ipynb\" target=\"_parent\"><img src=\"https://colab.research.google.com/assets/colab-badge.svg\" alt=\"Open In Colab\"/></a>"
      ]
    },
    {
      "cell_type": "markdown",
      "id": "935f9d89-2ed0-438e-b32e-f5ff7a32bc8a",
      "metadata": {
        "id": "935f9d89-2ed0-438e-b32e-f5ff7a32bc8a"
      },
      "source": [
        "## Target\n",
        "- Build on top of the 1st approach\n",
        "- Introduce Batch normalization,  GAP , 1X1 convolutions for channel selection\n",
        "- Add drop out to reduce overfit \n",
        "- Increase mo\n",
        "- Reduce the number of parameters to 15k-20k\n",
        "- Target test/val accuracy to be clsoe to 98-99% \n",
        "- Reduce # epcohs to 10\n",
        "\n",
        "## Results\n",
        "- Best training accuracy: 99.09\n",
        "- Best test accuracy: 98.73\n",
        "- \n",
        "## Analysis\n",
        "- Model seems to be overfit to some extent\n",
        "- It is a lighter model with **18.1K** parameters\n",
        "- It is quite evident from the data that we need augmentation applied to the data\n",
        "- there are cases where the numbers are tilted"
      ]
    },
    {
      "cell_type": "markdown",
      "id": "846efd4d-be7d-428e-8f0a-c0746ad6aa9f",
      "metadata": {
        "id": "846efd4d-be7d-428e-8f0a-c0746ad6aa9f"
      },
      "source": [
        "### Import Libraries"
      ]
    },
    {
      "cell_type": "code",
      "execution_count": 12,
      "id": "90b815cc",
      "metadata": {
        "id": "90b815cc"
      },
      "outputs": [],
      "source": [
        "import torch\n",
        "import torch.nn as nn\n",
        "import torch.nn.functional as F\n",
        "import torch.optim as optim\n",
        "from torchvision import datasets, transforms"
      ]
    },
    {
      "cell_type": "markdown",
      "id": "a8761b5f",
      "metadata": {
        "id": "a8761b5f"
      },
      "source": [
        "### define transformations \n",
        "- use them while downloading data"
      ]
    },
    {
      "cell_type": "code",
      "execution_count": 13,
      "id": "9a2f21fe",
      "metadata": {
        "id": "9a2f21fe"
      },
      "outputs": [],
      "source": [
        "train_transform = transforms.Compose([\n",
        "        transforms.ToTensor(),\n",
        "#         transforms.Normalize()\n",
        "])\n",
        "\n"
      ]
    },
    {
      "cell_type": "code",
      "execution_count": 14,
      "id": "6ab028a0",
      "metadata": {
        "scrolled": true,
        "id": "6ab028a0"
      },
      "outputs": [],
      "source": [
        "train = datasets.MNIST('./data',train=True, download=True, transform=train_transform)\n",
        "\n"
      ]
    },
    {
      "cell_type": "markdown",
      "id": "48336781",
      "metadata": {
        "id": "48336781"
      },
      "source": [
        "#### Compute mean and std deviation for image normalization"
      ]
    },
    {
      "cell_type": "code",
      "execution_count": 15,
      "id": "3c9d0c51",
      "metadata": {
        "scrolled": true,
        "colab": {
          "base_uri": "https://localhost:8080/"
        },
        "id": "3c9d0c51",
        "outputId": "a443f3bb-fd7e-4319-b071-d5d70e18ba58"
      },
      "outputs": [
        {
          "output_type": "stream",
          "name": "stderr",
          "text": [
            "/usr/local/lib/python3.8/dist-packages/torchvision/datasets/mnist.py:75: UserWarning: train_data has been renamed data\n",
            "  warnings.warn(\"train_data has been renamed data\")\n"
          ]
        },
        {
          "output_type": "stream",
          "name": "stdout",
          "text": [
            "[Train]\n",
            " - Numpy Shape: (60000, 28, 28)\n",
            " - Tensor Shape: torch.Size([60000, 28, 28])\n",
            " - min: tensor(0.)\n",
            " - max: tensor(1.)\n",
            " - mean: tensor(0.1307)\n",
            " - std: tensor(0.3081)\n",
            " - var: tensor(0.0949)\n"
          ]
        }
      ],
      "source": [
        "train_data = train.train_data\n",
        "train_data = train.transform(train_data.numpy())\n",
        "\n",
        "print('[Train]')\n",
        "print(' - Numpy Shape:', train.train_data.cpu().numpy().shape)\n",
        "print(' - Tensor Shape:', train.train_data.size())\n",
        "print(' - min:', torch.min(train_data))\n",
        "print(' - max:', torch.max(train_data))\n",
        "print(' - mean:', torch.mean(train_data))\n",
        "print(' - std:', torch.std(train_data))\n",
        "print(' - var:', torch.var(train_data))\n"
      ]
    },
    {
      "cell_type": "markdown",
      "id": "d2b2121b-e3ce-4bfe-a415-ad1ec0a8f4c8",
      "metadata": {
        "id": "d2b2121b-e3ce-4bfe-a415-ad1ec0a8f4c8"
      },
      "source": [
        "#### Update transformation using mean and std from the training data"
      ]
    },
    {
      "cell_type": "code",
      "execution_count": 16,
      "id": "baf0f255",
      "metadata": {
        "id": "baf0f255"
      },
      "outputs": [],
      "source": [
        "train_transforms = transforms.Compose([\n",
        "        transforms.ToTensor(),\n",
        "        transforms.Normalize(mean=(0.1307,),std=(0.3081,))\n",
        "])\n",
        "\n",
        "\n",
        "test_transforms = transforms.Compose([\n",
        "        transforms.ToTensor(),\n",
        "        transforms.Normalize(mean=(0.1307,),std=(0.3081,))\n",
        "])\n",
        "\n"
      ]
    },
    {
      "cell_type": "markdown",
      "id": "cfb4f129-6873-4cc5-b62a-cadfd136e92d",
      "metadata": {
        "id": "cfb4f129-6873-4cc5-b62a-cadfd136e92d"
      },
      "source": [
        "### Apply transformation to both train and test dataset"
      ]
    },
    {
      "cell_type": "code",
      "execution_count": 17,
      "id": "a01d806a",
      "metadata": {
        "scrolled": true,
        "id": "a01d806a"
      },
      "outputs": [],
      "source": [
        "train = datasets.MNIST('./data', train=True, download=True, transform=train_transforms)\n",
        "test = datasets.MNIST('./data', train=False, download=True, transform=test_transforms)"
      ]
    },
    {
      "cell_type": "code",
      "execution_count": 18,
      "id": "6fb8ad3b",
      "metadata": {
        "colab": {
          "base_uri": "https://localhost:8080/"
        },
        "id": "6fb8ad3b",
        "outputId": "2753a941-b8d6-48e8-a837-498f5dd0c83c"
      },
      "outputs": [
        {
          "output_type": "execute_result",
          "data": {
            "text/plain": [
              "torchvision.datasets.mnist.MNIST"
            ]
          },
          "metadata": {},
          "execution_count": 18
        }
      ],
      "source": [
        "type(train)"
      ]
    },
    {
      "cell_type": "markdown",
      "id": "1c7165d6-68ab-4998-b897-dc15de57ec2c",
      "metadata": {
        "id": "1c7165d6-68ab-4998-b897-dc15de57ec2c"
      },
      "source": [
        "### Create Dataloader for batch generation"
      ]
    },
    {
      "cell_type": "code",
      "execution_count": 19,
      "id": "3ad32988-907a-44d8-838c-e59f540c76f6",
      "metadata": {
        "colab": {
          "base_uri": "https://localhost:8080/"
        },
        "id": "3ad32988-907a-44d8-838c-e59f540c76f6",
        "outputId": "e54dd3a3-0726-4385-aad8-d3cab1c24c80"
      },
      "outputs": [
        {
          "output_type": "stream",
          "name": "stdout",
          "text": [
            "False\n"
          ]
        }
      ],
      "source": [
        "SEED = 1\n",
        "cuda = torch.cuda.is_available()\n",
        "print(cuda)"
      ]
    },
    {
      "cell_type": "code",
      "execution_count": 20,
      "id": "81396fd8-965f-47a1-9319-be3b44ec00c2",
      "metadata": {
        "id": "81396fd8-965f-47a1-9319-be3b44ec00c2"
      },
      "outputs": [],
      "source": [
        "#for reproducibility\n",
        "torch.cuda.manual_seed(SEED)\n"
      ]
    },
    {
      "cell_type": "code",
      "execution_count": 21,
      "id": "9d009f8e-65ee-40ae-97bc-83b1b56e0cad",
      "metadata": {
        "colab": {
          "base_uri": "https://localhost:8080/"
        },
        "id": "9d009f8e-65ee-40ae-97bc-83b1b56e0cad",
        "outputId": "3f55e676-9d3a-4080-e729-d58f11b94ab9"
      },
      "outputs": [
        {
          "output_type": "stream",
          "name": "stderr",
          "text": [
            "/usr/local/lib/python3.8/dist-packages/torch/utils/data/dataloader.py:554: UserWarning: This DataLoader will create 4 worker processes in total. Our suggested max number of worker in current system is 2, which is smaller than what this DataLoader is going to create. Please be aware that excessive worker creation might get DataLoader running slow or even freeze, lower the worker number to avoid potential slowness/freeze if necessary.\n",
            "  warnings.warn(_create_warning_msg(\n"
          ]
        }
      ],
      "source": [
        "dataloader_args = dict(shuffle=True, batch_size=128, num_workers=4, pin_memory=True)\n",
        "\n",
        "train_loader = torch.utils.data.DataLoader(train, **dataloader_args)\n",
        "test_loader = torch.utils.data.DataLoader(test, **dataloader_args)"
      ]
    },
    {
      "cell_type": "markdown",
      "id": "ab6bfe0e-eb7e-4e76-beb3-5439d9bcd3e3",
      "metadata": {
        "id": "ab6bfe0e-eb7e-4e76-beb3-5439d9bcd3e3"
      },
      "source": [
        "#### Show few images\n",
        "- Create a data iter object\n",
        "- fetch a batch of data using data loader"
      ]
    },
    {
      "cell_type": "code",
      "execution_count": 22,
      "id": "cb2ed3ef-d935-48c8-9d24-350221d3e390",
      "metadata": {
        "colab": {
          "base_uri": "https://localhost:8080/"
        },
        "id": "cb2ed3ef-d935-48c8-9d24-350221d3e390",
        "outputId": "a7aaf2e1-d6a8-43f7-d40a-9ba03124ab6f"
      },
      "outputs": [
        {
          "output_type": "execute_result",
          "data": {
            "text/plain": [
              "(torch.Size([128, 1, 28, 28]), torch.Size([128]))"
            ]
          },
          "metadata": {},
          "execution_count": 22
        }
      ],
      "source": [
        "dataiter = iter(train_loader)\n",
        "images, labels = next(dataiter)\n",
        "\n",
        "images.shape, labels.shape"
      ]
    },
    {
      "cell_type": "code",
      "execution_count": 23,
      "id": "527e026c-dc24-4945-a28e-511cfc0fe6ec",
      "metadata": {
        "id": "527e026c-dc24-4945-a28e-511cfc0fe6ec"
      },
      "outputs": [],
      "source": [
        "%matplotlib inline\n",
        "import matplotlib.pyplot as plt"
      ]
    },
    {
      "cell_type": "code",
      "execution_count": 24,
      "id": "3f256fdc-1fb0-4d83-bba7-c2107c8d1886",
      "metadata": {
        "colab": {
          "base_uri": "https://localhost:8080/",
          "height": 262
        },
        "id": "3f256fdc-1fb0-4d83-bba7-c2107c8d1886",
        "outputId": "dd873ff5-8c6d-4b20-a328-d4f89df10735"
      },
      "outputs": [
        {
          "output_type": "display_data",
          "data": {
            "text/plain": [
              "<Figure size 432x288 with 60 Axes>"
            ],
            "image/png": "[encoded data removed]"
          },
          "metadata": {
            "needs_background": "light"
          }
        }
      ],
      "source": [
        "figure = plt.figure()\n",
        "num_of_images = 60\n",
        "for index in range(1, num_of_images + 1):\n",
        "    plt.title(str(labels[index].item()))\n",
        "    plt.subplot(6, 10, index)\n",
        "    plt.axis('off')\n",
        "    plt.imshow(images[index].numpy().squeeze(), cmap='gray_r')"
      ]
    },
    {
      "cell_type": "markdown",
      "id": "29d8051b-5ebe-40a6-a368-ae4fcdc58d3a",
      "metadata": {
        "id": "29d8051b-5ebe-40a6-a368-ae4fcdc58d3a"
      },
      "source": [
        "### Create a Model\n",
        "- will create like 5-7 layers of networks\n",
        "- not use padding\n",
        "- channels to be a minimal in number\n",
        "- create multiple sequential blocks\n",
        "- 28X28 > 26X26 > 24X24 > 22X22 > MP (11X11) > 9X9 > 7X7 > 1X1"
      ]
    },
    {
      "cell_type": "code",
      "execution_count": 25,
      "id": "5b8b0b91-5350-4b4a-98ea-ed1ad062f0aa",
      "metadata": {
        "id": "5b8b0b91-5350-4b4a-98ea-ed1ad062f0aa"
      },
      "outputs": [],
      "source": [
        "class Net(nn.Module):\n",
        "    def __init__(self):\n",
        "        super(Net,self).__init__()\n",
        "        \n",
        "        self.convblock1 = nn.Sequential(\n",
        "            nn.Conv2d(in_channels=1, out_channels=8, kernel_size=(3,3), padding = 0, bias=False),\n",
        "            nn.BatchNorm2d(8),\n",
        "            nn.ReLU()\n",
        "            \n",
        "        )\n",
        "        \n",
        "        self.convblock2 = nn.Sequential(\n",
        "            nn.Conv2d(in_channels=8, out_channels=16, kernel_size=(3,3), padding = 0, bias=False),\n",
        "            nn.BatchNorm2d(16),\n",
        "            nn.ReLU()\n",
        "            \n",
        "        )\n",
        "        self.convblock3 = nn.Sequential(\n",
        "            nn.Conv2d(in_channels=16, out_channels=32, kernel_size=(3,3), padding = 0, bias=False),\n",
        "            nn.BatchNorm2d(32),\n",
        "            nn.ReLU()\n",
        "            \n",
        "        )\n",
        "        self.pool1 = nn.MaxPool2d(2,2)\n",
        "        \n",
        "        self.convblock4 = nn.Sequential(\n",
        "            nn.Conv2d(in_channels=32, out_channels=64, kernel_size=(3,3), padding = 0, bias=False),\n",
        "            nn.BatchNorm2d(64),\n",
        "            nn.ReLU()\n",
        "            \n",
        "        )\n",
        "        #create a transition \n",
        "        \n",
        "        \n",
        "        \n",
        "        self.convblock4 = nn.Sequential(\n",
        "            nn.Conv2d(in_channels=32, out_channels=32, kernel_size=(3,3), padding = 0, bias=False),\n",
        "            nn.BatchNorm2d(32),\n",
        "            nn.ReLU()\n",
        "        )\n",
        "        \n",
        "        self.convblock5 = nn.Sequential(\n",
        "            nn.Conv2d(in_channels=32, out_channels=10, kernel_size=(3,3), padding = 0, bias=False),\n",
        "            nn.BatchNorm2d(10),\n",
        "            nn.ReLU()\n",
        "        )\n",
        "        \n",
        "        self.convblock6 = nn.Sequential(\n",
        "            nn.Conv2d(in_channels=16, out_channels=10, kernel_size=(3,3), padding = 0, bias=False),\n",
        "            nn.BatchNorm2d(10),\n",
        "            nn.ReLU()\n",
        "        )\n",
        "        \n",
        "        self.gap = nn.Sequential(\n",
        "            nn.AvgPool2d(kernel_size=7)\n",
        "        ) # output_size = 1\n",
        "\n",
        "        self.dropout = nn.Dropout(0.05)\n",
        "        \n",
        "        \n",
        "    def forward(self,x):\n",
        "        x = self.convblock1(x)\n",
        "        x = self.convblock2(x)\n",
        "        x = self.convblock3(x)\n",
        "        x = self.dropout(x)\n",
        "        x = self.pool1(x)\n",
        "        x = self.convblock4(x)\n",
        "        \n",
        "        \n",
        "        x = self.convblock5(x)\n",
        "        x = self.dropout(x)\n",
        "        # return x\n",
        "        # x = self.convblock6(x)\n",
        "        x = self.gap(x)\n",
        "        \n",
        "        x = x.view(-1, 10)\n",
        "        return F.log_softmax(x,dim=-1)\n",
        "            "
      ]
    },
    {
      "cell_type": "markdown",
      "id": "d57cbd75-4512-4b33-bf4a-2f585612ec89",
      "metadata": {
        "id": "d57cbd75-4512-4b33-bf4a-2f585612ec89"
      },
      "source": [
        "### Visualize the model"
      ]
    },
    {
      "cell_type": "code",
      "execution_count": 26,
      "id": "5cdaa0d3-5032-4029-8986-8db474995355",
      "metadata": {
        "colab": {
          "base_uri": "https://localhost:8080/"
        },
        "id": "5cdaa0d3-5032-4029-8986-8db474995355",
        "outputId": "e114704a-09a5-4523-cfd1-841189f49c11"
      },
      "outputs": [
        {
          "output_type": "stream",
          "name": "stdout",
          "text": [
            "cpu\n",
            "----------------------------------------------------------------\n",
            "        Layer (type)               Output Shape         Param #\n",
            "================================================================\n",
            "            Conv2d-1            [-1, 8, 26, 26]              72\n",
            "       BatchNorm2d-2            [-1, 8, 26, 26]              16\n",
            "              ReLU-3            [-1, 8, 26, 26]               0\n",
            "            Conv2d-4           [-1, 16, 24, 24]           1,152\n",
            "       BatchNorm2d-5           [-1, 16, 24, 24]              32\n",
            "              ReLU-6           [-1, 16, 24, 24]               0\n",
            "            Conv2d-7           [-1, 32, 22, 22]           4,608\n",
            "       BatchNorm2d-8           [-1, 32, 22, 22]              64\n",
            "              ReLU-9           [-1, 32, 22, 22]               0\n",
            "          Dropout-10           [-1, 32, 22, 22]               0\n",
            "        MaxPool2d-11           [-1, 32, 11, 11]               0\n",
            "           Conv2d-12             [-1, 32, 9, 9]           9,216\n",
            "      BatchNorm2d-13             [-1, 32, 9, 9]              64\n",
            "             ReLU-14             [-1, 32, 9, 9]               0\n",
            "           Conv2d-15             [-1, 10, 7, 7]           2,880\n",
            "      BatchNorm2d-16             [-1, 10, 7, 7]              20\n",
            "             ReLU-17             [-1, 10, 7, 7]               0\n",
            "          Dropout-18             [-1, 10, 7, 7]               0\n",
            "        AvgPool2d-19             [-1, 10, 1, 1]               0\n",
            "================================================================\n",
            "Total params: 18,124\n",
            "Trainable params: 18,124\n",
            "Non-trainable params: 0\n",
            "----------------------------------------------------------------\n",
            "Input size (MB): 0.00\n",
            "Forward/backward pass size (MB): 0.91\n",
            "Params size (MB): 0.07\n",
            "Estimated Total Size (MB): 0.98\n",
            "----------------------------------------------------------------\n"
          ]
        }
      ],
      "source": [
        "\n",
        "from torchsummary import summary\n",
        "use_cuda = torch.cuda.is_available()\n",
        "device = torch.device(\"cuda\" if use_cuda else \"cpu\")\n",
        "print(device)\n",
        "model = Net().to(device)\n",
        "summary(model, input_size=(1, 28, 28))"
      ]
    },
    {
      "cell_type": "markdown",
      "id": "173eb5ec-6075-434c-ab04-faf0f4c40365",
      "metadata": {
        "id": "173eb5ec-6075-434c-ab04-faf0f4c40365"
      },
      "source": [
        "### Training the Model"
      ]
    },
    {
      "cell_type": "code",
      "execution_count": 30,
      "id": "be244dad-9146-473b-a6dc-57fa77cc5ab1",
      "metadata": {
        "id": "be244dad-9146-473b-a6dc-57fa77cc5ab1"
      },
      "outputs": [],
      "source": [
        "from tqdm import tqdm\n",
        "\n",
        "train_losses = []\n",
        "test_losses = []\n",
        "train_acc = []\n",
        "test_acc = []\n",
        "\n",
        "def train(model, device, train_loader, optimizer, epoch):\n",
        "    model.train()\n",
        "    pbar = tqdm(train_loader)\n",
        "    train_ep_loss=0\n",
        "    correct = 0\n",
        "    processed = 0\n",
        "    for batch_idx, (data, target) in enumerate(pbar):\n",
        "        data, target = data.to(device), target.to(device)\n",
        "        \n",
        "        optimizer.zero_grad()\n",
        "        \n",
        "        y_pred = model(data)\n",
        "        \n",
        "        loss = F.nll_loss(y_pred, target)\n",
        "        train_ep_loss+=loss\n",
        "        train_losses.append(loss)\n",
        "        \n",
        "        loss.backward() #backward prop\n",
        "        optimizer.step()\n",
        "        \n",
        "        pred = y_pred.argmax(dim=1, keepdim=True)\n",
        "        \n",
        "        correct += pred.eq(target.view_as(pred)).sum().item()\n",
        "        processed += len(data)\n",
        "        \n",
        "        pbar.set_description(desc=f'Loss = {loss.item()} Batch_id = {batch_idx}\\\n",
        "            Accuracy={100*correct/processed:0.2f}')\n",
        "        \n",
        "        \n",
        "        train_acc.append(100*correct/processed)\n",
        "\n",
        "        \n",
        "def test(model, device, test_loader):\n",
        "    model.eval()\n",
        "    test_loss = 0\n",
        "    correct = 0\n",
        "    with torch.no_grad():\n",
        "        for data, target in test_loader:\n",
        "            data, target = data.to(device), target.to(device)\n",
        "            output = model(data)\n",
        "            test_loss += F.nll_loss(output, target, reduction='sum').item()\n",
        "            pred = output.argmax(dim=1, keepdim=True)\n",
        "            correct += pred.eq(target.view_as(pred)).sum().item()\n",
        "            \n",
        "    test_loss /= len(test_loader.dataset)\n",
        "    test_losses.append(test_loss)\n",
        "\n",
        "    print('\\nTest set: Average loss: {:.4f}, Accuracy: {}/{} ({:.2f}%)\\n'.format(\n",
        "        test_loss, correct, len(test_loader.dataset),\n",
        "        100. * correct / len(test_loader.dataset)))\n",
        "    \n",
        "    test_acc.append(100. * correct / len(test_loader.dataset))\n",
        "            \n",
        "        \n",
        "        "
      ]
    },
    {
      "cell_type": "code",
      "execution_count": 31,
      "id": "bdc36661-a1f7-4c4f-8b24-f7956290fbf7",
      "metadata": {
        "colab": {
          "base_uri": "https://localhost:8080/"
        },
        "id": "bdc36661-a1f7-4c4f-8b24-f7956290fbf7",
        "outputId": "fe3c5f51-2860-43e6-a0a1-0be68fc2e35d"
      },
      "outputs": [
        {
          "output_type": "execute_result",
          "data": {
            "text/plain": [
              "10000"
            ]
          },
          "metadata": {},
          "execution_count": 31
        }
      ],
      "source": [
        "len(test_loader.dataset)"
      ]
    },
    {
      "cell_type": "code",
      "execution_count": 32,
      "id": "2e16e77c-9c35-428d-bea9-31d5a0871243",
      "metadata": {
        "tags": [],
        "colab": {
          "base_uri": "https://localhost:8080/"
        },
        "id": "2e16e77c-9c35-428d-bea9-31d5a0871243",
        "outputId": "a15ec88b-b158-4259-e5ee-d8a5c7059a31"
      },
      "outputs": [
        {
          "output_type": "stream",
          "name": "stdout",
          "text": [
            "EPOCH: 0\n"
          ]
        },
        {
          "output_type": "stream",
          "name": "stderr",
          "text": [
            "Loss = 0.2034590244293213 Batch_id = 468            Accuracy=90.56: 100%|██████████| 469/469 [01:05<00:00,  7.13it/s]\n"
          ]
        },
        {
          "output_type": "stream",
          "name": "stdout",
          "text": [
            "\n",
            "Test set: Average loss: 0.2130, Accuracy: 9719/10000 (97.19%)\n",
            "\n",
            "EPOCH: 1\n"
          ]
        },
        {
          "output_type": "stream",
          "name": "stderr",
          "text": [
            "Loss = 0.15882523357868195 Batch_id = 468            Accuracy=97.66: 100%|██████████| 469/469 [01:05<00:00,  7.11it/s]\n"
          ]
        },
        {
          "output_type": "stream",
          "name": "stdout",
          "text": [
            "\n",
            "Test set: Average loss: 0.1372, Accuracy: 9727/10000 (97.27%)\n",
            "\n",
            "EPOCH: 2\n"
          ]
        },
        {
          "output_type": "stream",
          "name": "stderr",
          "text": [
            "Loss = 0.1376846581697464 Batch_id = 468            Accuracy=98.22: 100%|██████████| 469/469 [01:06<00:00,  7.04it/s]\n"
          ]
        },
        {
          "output_type": "stream",
          "name": "stdout",
          "text": [
            "\n",
            "Test set: Average loss: 0.1161, Accuracy: 9757/10000 (97.57%)\n",
            "\n",
            "EPOCH: 3\n"
          ]
        },
        {
          "output_type": "stream",
          "name": "stderr",
          "text": [
            "Loss = 0.045589838176965714 Batch_id = 468            Accuracy=98.47: 100%|██████████| 469/469 [01:07<00:00,  6.95it/s]\n"
          ]
        },
        {
          "output_type": "stream",
          "name": "stdout",
          "text": [
            "\n",
            "Test set: Average loss: 0.0787, Accuracy: 9840/10000 (98.40%)\n",
            "\n",
            "EPOCH: 4\n"
          ]
        },
        {
          "output_type": "stream",
          "name": "stderr",
          "text": [
            "Loss = 0.10609180480241776 Batch_id = 468            Accuracy=98.71: 100%|██████████| 469/469 [01:07<00:00,  6.97it/s]\n"
          ]
        },
        {
          "output_type": "stream",
          "name": "stdout",
          "text": [
            "\n",
            "Test set: Average loss: 0.0947, Accuracy: 9766/10000 (97.66%)\n",
            "\n",
            "EPOCH: 5\n"
          ]
        },
        {
          "output_type": "stream",
          "name": "stderr",
          "text": [
            "Loss = 0.12204127758741379 Batch_id = 468            Accuracy=98.85: 100%|██████████| 469/469 [01:06<00:00,  7.10it/s]\n"
          ]
        },
        {
          "output_type": "stream",
          "name": "stdout",
          "text": [
            "\n",
            "Test set: Average loss: 0.0877, Accuracy: 9773/10000 (97.73%)\n",
            "\n",
            "EPOCH: 6\n"
          ]
        },
        {
          "output_type": "stream",
          "name": "stderr",
          "text": [
            "Loss = 0.1334335058927536 Batch_id = 468            Accuracy=98.86: 100%|██████████| 469/469 [01:06<00:00,  7.10it/s]\n"
          ]
        },
        {
          "output_type": "stream",
          "name": "stdout",
          "text": [
            "\n",
            "Test set: Average loss: 0.0571, Accuracy: 9867/10000 (98.67%)\n",
            "\n",
            "EPOCH: 7\n"
          ]
        },
        {
          "output_type": "stream",
          "name": "stderr",
          "text": [
            "Loss = 0.09720033407211304 Batch_id = 468            Accuracy=98.99: 100%|██████████| 469/469 [01:07<00:00,  6.95it/s]\n"
          ]
        },
        {
          "output_type": "stream",
          "name": "stdout",
          "text": [
            "\n",
            "Test set: Average loss: 0.0558, Accuracy: 9859/10000 (98.59%)\n",
            "\n",
            "EPOCH: 8\n"
          ]
        },
        {
          "output_type": "stream",
          "name": "stderr",
          "text": [
            "Loss = 0.02447812259197235 Batch_id = 468            Accuracy=99.00: 100%|██████████| 469/469 [01:05<00:00,  7.12it/s]\n"
          ]
        },
        {
          "output_type": "stream",
          "name": "stdout",
          "text": [
            "\n",
            "Test set: Average loss: 0.0600, Accuracy: 9854/10000 (98.54%)\n",
            "\n",
            "EPOCH: 9\n"
          ]
        },
        {
          "output_type": "stream",
          "name": "stderr",
          "text": [
            "Loss = 0.035829368978738785 Batch_id = 468            Accuracy=99.09: 100%|██████████| 469/469 [01:05<00:00,  7.11it/s]\n"
          ]
        },
        {
          "output_type": "stream",
          "name": "stdout",
          "text": [
            "\n",
            "Test set: Average loss: 0.0521, Accuracy: 9873/10000 (98.73%)\n",
            "\n"
          ]
        }
      ],
      "source": [
        "model =  Net().to(device)\n",
        "optimizer = optim.SGD(model.parameters(), lr=0.01, momentum=0.9)\n",
        "EPOCHS = 10\n",
        "for epoch in range(EPOCHS):\n",
        "    print(\"EPOCH:\", epoch)\n",
        "    train(model, device, train_loader, optimizer, epoch)\n",
        "    test(model, device, test_loader)\n"
      ]
    },
    {
      "cell_type": "code",
      "execution_count": 29,
      "id": "f8950acf-bb2d-4e73-9695-6e097f58b53e",
      "metadata": {
        "id": "f8950acf-bb2d-4e73-9695-6e097f58b53e"
      },
      "outputs": [],
      "source": []
    }
  ],
  "metadata": {
    "kernelspec": {
      "display_name": "Python 3 (ipykernel)",
      "language": "python",
      "name": "python3"
    },
    "language_info": {
      "codemirror_mode": {
        "name": "ipython",
        "version": 3
      },
      "file_extension": ".py",
      "mimetype": "text/x-python",
      "name": "python",
      "nbconvert_exporter": "python",
      "pygments_lexer": "ipython3",
      "version": "3.9.7"
    },
    "colab": {
      "provenance": [],
      "include_colab_link": true
    }
  },
  "nbformat": 4,
  "nbformat_minor": 5
}